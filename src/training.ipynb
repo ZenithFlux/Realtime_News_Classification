{
 "cells": [
  {
   "cell_type": "markdown",
   "metadata": {},
   "source": [
    "# BBC News Classification\n",
    "\n",
    "Dataset Used - [BBC News Classification (Kaggle)](https://www.kaggle.com/competitions/learn-ai-bbc/data)"
   ]
  },
  {
   "cell_type": "code",
   "execution_count": 1,
   "metadata": {},
   "outputs": [],
   "source": [
    "import re\n",
    "\n",
    "import numpy as np\n",
    "import spacy\n",
    "import pandas as pd\n",
    "import matplotlib.pyplot as plt\n",
    "%matplotlib inline"
   ]
  },
  {
   "cell_type": "code",
   "execution_count": 4,
   "metadata": {},
   "outputs": [],
   "source": [
    "# !python -m spacy download en_core_web_md\n",
    "nlp = spacy.load(\"en_core_web_md\")"
   ]
  },
  {
   "cell_type": "markdown",
   "metadata": {},
   "source": [
    "## Data Cleaning"
   ]
  },
  {
   "cell_type": "code",
   "execution_count": null,
   "metadata": {},
   "outputs": [],
   "source": [
    "df = pd.read_csv(\"../dataset/mtsamples.csv\")\n",
    "df.head()"
   ]
  },
  {
   "cell_type": "code",
   "execution_count": null,
   "metadata": {},
   "outputs": [],
   "source": [
    "print(\"Rows:\", len(df))\n",
    "print(\"Unique Labels:\", len(df[\"medical_specialty\"].unique()))"
   ]
  },
  {
   "cell_type": "code",
   "execution_count": null,
   "metadata": {},
   "outputs": [],
   "source": [
    "df.description = df.description + \" \" + df.transcription\n",
    "df.medical_specialty = df.medical_specialty.str.strip()\n",
    "df = df.drop(columns=[df.columns[0], \"sample_name\", \"transcription\",\"keywords\"])\n",
    "df.head()"
   ]
  },
  {
   "cell_type": "code",
   "execution_count": null,
   "metadata": {},
   "outputs": [],
   "source": [
    "na_rows = df.isna().any(axis=1)\n",
    "print(\"Null values:\", na_rows.sum())\n",
    "df = df.dropna()\n",
    "print(\"Rows after removing null:\", len(df))"
   ]
  },
  {
   "cell_type": "code",
   "execution_count": null,
   "metadata": {},
   "outputs": [],
   "source": [
    "df.to_csv(\"../dataset/cleaned.csv\", index=False)"
   ]
  },
  {
   "cell_type": "markdown",
   "metadata": {},
   "source": [
    "## Data preprocessing"
   ]
  },
  {
   "cell_type": "code",
   "execution_count": null,
   "metadata": {},
   "outputs": [],
   "source": [
    "def preprocess(text):\n",
    "    text = text.replace(\".,\", \" \")\n",
    "    doc = nlp(text)\n",
    "    processed_text = []\n",
    "    for token in doc:\n",
    "        if not (token.is_stop or token.is_punct or token.like_num):\n",
    "            processed_text.append(token.lemma_)\n",
    "    text = \" \".join(processed_text)\n",
    "    return re.sub(\" +\", \" \", text)\n",
    "\n",
    "df.description = df.description.apply(preprocess)\n",
    "df.head()"
   ]
  },
  {
   "cell_type": "code",
   "execution_count": null,
   "metadata": {},
   "outputs": [],
   "source": [
    "df.to_csv(\"../dataset/preprocessed.csv\", index=False)"
   ]
  },
  {
   "cell_type": "markdown",
   "metadata": {},
   "source": [
    "## Feature Engineering"
   ]
  },
  {
   "cell_type": "code",
   "execution_count": null,
   "metadata": {},
   "outputs": [],
   "source": [
    "df = pd.read_csv(\"../dataset/preprocessed.csv\")\n",
    "df.head()"
   ]
  },
  {
   "cell_type": "code",
   "execution_count": null,
   "metadata": {},
   "outputs": [],
   "source": [
    "df[\"vectors\"] = df.description.apply(lambda x: nlp(x).vector)\n",
    "df.head()"
   ]
  },
  {
   "cell_type": "code",
   "execution_count": null,
   "metadata": {},
   "outputs": [],
   "source": [
    "label_map = df.medical_specialty.unique()\n",
    "np.savetxt(\"../dataset/label_map.csv\", label_map, fmt=\"%s\", delimiter=\",\")\n",
    "label_map = label_map.tolist()\n",
    "\n",
    "df[\"labels\"] = df.medical_specialty.apply(lambda x: label_map.index(x))\n",
    "print(label_map)\n",
    "df.head()"
   ]
  },
  {
   "cell_type": "code",
   "execution_count": null,
   "metadata": {},
   "outputs": [],
   "source": [
    "X = np.stack(df.vectors.to_numpy())\n",
    "Y = np.stack(df.labels.to_numpy())\n",
    "np.savetxt(\"../dataset/X.csv\", X, delimiter=\",\")\n",
    "np.savetxt(\"../dataset/Y.csv\", Y, delimiter=\",\")"
   ]
  },
  {
   "cell_type": "markdown",
   "metadata": {},
   "source": [
    "## Exploratory Data Analysis"
   ]
  },
  {
   "cell_type": "code",
   "execution_count": null,
   "metadata": {},
   "outputs": [],
   "source": [
    "df = pd.read_csv(\"../dataset/preprocessed.csv\")\n",
    "label_map = np.loadtxt(\"../dataset/label_map.csv\", delimiter=\",\", dtype=str)\n",
    "df.head()"
   ]
  },
  {
   "cell_type": "code",
   "execution_count": null,
   "metadata": {},
   "outputs": [],
   "source": [
    "# Checking class imbalance\n",
    "\n",
    "label_counts = []\n",
    "for s in label_map: label_counts.append(len(df[df.medical_specialty==s]))\n",
    "print({x: y for x, y in zip(label_map, label_counts)})\n",
    "\n",
    "plt.figure(figsize=(9,9))\n",
    "plt.pie(label_counts, labels=label_map, explode=[0.1 for _ in range(40)], autopct=\"%.1f%%\")\n",
    "plt.title(\"Class Distribution\")\n",
    "plt.show()"
   ]
  },
  {
   "cell_type": "markdown",
   "metadata": {},
   "source": [
    "## Model Training\n",
    "\n",
    "- Classes are imbalanced, check if we can improve by balancing"
   ]
  },
  {
   "cell_type": "code",
   "execution_count": null,
   "metadata": {},
   "outputs": [],
   "source": [
    "from sklearn.model_selection import train_test_split, GridSearchCV\n",
    "from sklearn.neighbors import KNeighborsClassifier\n",
    "from sklearn.ensemble import RandomForestClassifier\n",
    "from sklearn.svm import SVC"
   ]
  },
  {
   "cell_type": "code",
   "execution_count": null,
   "metadata": {},
   "outputs": [],
   "source": [
    "X = np.loadtxt(\"../dataset/X.csv\", delimiter=\",\")\n",
    "Y = np.loadtxt(\"../dataset/Y.csv\", delimiter=\",\")\n",
    "X_train, X_test, Y_train, Y_test = train_test_split(X, Y, test_size=0.2, random_state=2385)\n",
    "print(\"Training Size:\", X_train.shape)\n",
    "print(\"Test Size:\", X_test.shape)"
   ]
  },
  {
   "cell_type": "code",
   "execution_count": null,
   "metadata": {},
   "outputs": [],
   "source": [
    "from sklearn.preprocessing import StandardScaler\n",
    "\n",
    "scaler = StandardScaler().fit(X_train)\n",
    "X_train = scaler.transform(X_train)"
   ]
  },
  {
   "cell_type": "code",
   "execution_count": null,
   "metadata": {},
   "outputs": [],
   "source": [
    "models = {\"KNN\": {\"model\": KNeighborsClassifier(),\n",
    "                  \"params\": {\"n_neighbors\": [5, 10, 20, 100], \n",
    "                             \"weights\": [\"uniform\", \"distance\"]}},\n",
    "          \n",
    "          \"Random Forest\": {\"model\": RandomForestClassifier(random_state=2806),\n",
    "                            \"params\": {\"n_estimators\": [10, 100],\n",
    "                            \"max_depth\": [100, 200, None],\n",
    "                            }},\n",
    "          \n",
    "          \"SVM\": {\"model\": SVC(random_state=3483),\n",
    "                  \"params\": {\"C\": [0.001, 0.01, 0.1, 1],\n",
    "                             \"max_iter\": [100, 500, 1000, 10000, -1]}}}"
   ]
  },
  {
   "cell_type": "code",
   "execution_count": null,
   "metadata": {},
   "outputs": [],
   "source": [
    "def GridSearch(models):\n",
    "    scores = {\"model\":[], \"best score\": [], \"best params\": []}\n",
    "    for name, m in models.items():\n",
    "        gscv = GridSearchCV(m[\"model\"], m[\"params\"], verbose=2, n_jobs=-1)\n",
    "        gscv.fit(X_train, Y_train)\n",
    "        scores[\"model\"].append(name)\n",
    "        scores[\"best score\"].append(gscv.best_score_)\n",
    "        scores[\"best params\"].append(gscv.best_params_)\n",
    "    return scores\n",
    "\n",
    "model_scores = GridSearch(models)\n",
    "    "
   ]
  },
  {
   "cell_type": "code",
   "execution_count": null,
   "metadata": {},
   "outputs": [],
   "source": [
    "pd.DataFrame(model_scores)"
   ]
  },
  {
   "cell_type": "code",
   "execution_count": null,
   "metadata": {},
   "outputs": [],
   "source": []
  }
 ],
 "metadata": {
  "kernelspec": {
   "display_name": ".venv",
   "language": "python",
   "name": "python3"
  },
  "language_info": {
   "codemirror_mode": {
    "name": "ipython",
    "version": 3
   },
   "file_extension": ".py",
   "mimetype": "text/x-python",
   "name": "python",
   "nbconvert_exporter": "python",
   "pygments_lexer": "ipython3",
   "version": "3.11.4"
  },
  "orig_nbformat": 4
 },
 "nbformat": 4,
 "nbformat_minor": 2
}
